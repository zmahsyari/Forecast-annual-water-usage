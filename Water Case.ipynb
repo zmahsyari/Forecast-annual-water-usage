{
 "cells": [
  {
   "cell_type": "markdown",
   "metadata": {},
   "source": [
    "# Mid-test: Python Use-Case (Water Case)\n",
    "\n",
    "\n",
    "\n",
    "##### Zumarsiyah Mahsyari\n",
    "##### Astra Data Scientist Bootcamp"
   ]
  },
  {
   "cell_type": "markdown",
   "metadata": {},
   "source": [
    "**Dataset** : <br> Annual Water Usage in Baltimore. \n",
    "\n",
    "You can download it here\n",
    "https://drive.google.com/open?id=1axM3gfGxQq4T0wuwP51DVMQAecVFmpxL\n",
    "\n",
    "The dataset is credited to Hipel an Mcleod, 1994.\n",
    "\n",
    "**Background** : The Dataset provides the annual water usage in Baltimore from 1885 to 1963, or 79 years of data.\n",
    "The values are in the units of liters per capita per day, and there are 79 observations.\n",
    "\n",
    "**Objective** : The Problem is to predict annual water usage. <br>\n",
    "\n",
    "**Instructions** :\n",
    "\n",
    "1. Load the dataset as a Pandas Series and split into two, one for model development (dataset.csv) and the other for validation (validation.csv).\n",
    "2. Create summary of the dataset, with python function.\n",
    "3. Create A line plot of a time series dataset, it will provide a lot of insight into the problem.\n",
    "4. Group the annual data by decade and get an idea of the spread of observations for each decade and how this may be changing.\n",
    "5. Create models using ARIMA <br>\n",
    "a. Split the dataset into train and test sets directly<br>\n",
    "b. The first 50% of the dataset will be held back to train the model.<br>\n",
    "c. The remaining 50% of the dataset will be iterated and test the model.<br>\n",
    "d. The ARIMA(p,d,q) model requires three parameters and is traditionally configured manually.<br>\n",
    "e. Use an ARIMA(0,1,0) on the raw data may be a good starting point.<br>\n",
    "f. When model trained, a one-step prediction made ang the prediction stored for later evaluation.<br>\n",
    "g. The actual observation from the test dataset woll be added to the training dataset for the next iteration.<br>\n",
    "h. The predictions made during the enumeration of the test dataset will be evaluated and an RMSE score reported.<br>\n",
    "6. Calculate the RMSE using the helper function from the scikit-learn library, from dataset only<br>\n",
    "Those RMSE will show you on average, how much the error/the model was wrong/gap between predection and expected value per capita per day for each prediction made."
   ]
  },
  {
   "cell_type": "markdown",
   "metadata": {},
   "source": [
    "### Load the dataset as a Pandas Series and split into two, one for model development(dataset.csv) and the other for validation (validation.csv)"
   ]
  },
  {
   "cell_type": "code",
   "execution_count": 151,
   "metadata": {},
   "outputs": [],
   "source": [
    "import scipy\n",
    "import numpy\n",
    "import matplotlib.pylab as plt\n",
    "%matplotlib inline\n",
    "from matplotlib.pylab import rcParams\n",
    "rcParams['figure.figsize'] = 10, 6\n",
    "import pandas as pd\n",
    "from statsmodels.tsa.arima_model import ARIMA\n",
    "from sklearn.metrics import mean_squared_error"
   ]
  },
  {
   "cell_type": "markdown",
   "metadata": {},
   "source": [
    "The code below will load the dataset as a Pandas Series and split into two, one for model development (dataset.csv) and the other for validation (validation.csv). <br>"
   ]
  },
  {
   "cell_type": "code",
   "execution_count": 152,
   "metadata": {},
   "outputs": [
    {
     "name": "stdout",
     "output_type": "stream",
     "text": [
      "Dataset 69, Validation 10\n"
     ]
    }
   ],
   "source": [
    "series = pd.read_csv('C:/Users/zumars064124/Documents/ADSB 2/Midtest/water.csv')\n",
    "split_point = len(series) - 10\n",
    "dataset, validation = series[0:split_point], series[split_point:]\n",
    "print('Dataset %d, Validation %d' % (len(dataset), len(validation)))\n",
    "dataset.to_csv('dataset.csv', index=False)\n",
    "validation.to_csv('validation.csv', index=False)"
   ]
  },
  {
   "cell_type": "markdown",
   "metadata": {},
   "source": [
    "The specific contents of these files are:\n",
    "- dataset.csv: Observations from 1885 to 1953 (69 observations).\n",
    "- validation.csv: Observations from 1954 to 1963 (10 observations). <br>\n",
    "\n",
    "The validation dataset is about 12% of the original dataset."
   ]
  },
  {
   "cell_type": "code",
   "execution_count": 153,
   "metadata": {},
   "outputs": [
    {
     "data": {
      "text/html": [
       "<div>\n",
       "<style scoped>\n",
       "    .dataframe tbody tr th:only-of-type {\n",
       "        vertical-align: middle;\n",
       "    }\n",
       "\n",
       "    .dataframe tbody tr th {\n",
       "        vertical-align: top;\n",
       "    }\n",
       "\n",
       "    .dataframe thead th {\n",
       "        text-align: right;\n",
       "    }\n",
       "</style>\n",
       "<table border=\"1\" class=\"dataframe\">\n",
       "  <thead>\n",
       "    <tr style=\"text-align: right;\">\n",
       "      <th></th>\n",
       "      <th>Year</th>\n",
       "      <th>Baltmore city annual water use, liters per capita per day, 1885-1968</th>\n",
       "    </tr>\n",
       "  </thead>\n",
       "  <tbody>\n",
       "    <tr>\n",
       "      <th>0</th>\n",
       "      <td>1885</td>\n",
       "      <td>356</td>\n",
       "    </tr>\n",
       "    <tr>\n",
       "      <th>1</th>\n",
       "      <td>1886</td>\n",
       "      <td>386</td>\n",
       "    </tr>\n",
       "    <tr>\n",
       "      <th>2</th>\n",
       "      <td>1887</td>\n",
       "      <td>397</td>\n",
       "    </tr>\n",
       "    <tr>\n",
       "      <th>3</th>\n",
       "      <td>1888</td>\n",
       "      <td>397</td>\n",
       "    </tr>\n",
       "    <tr>\n",
       "      <th>4</th>\n",
       "      <td>1889</td>\n",
       "      <td>413</td>\n",
       "    </tr>\n",
       "  </tbody>\n",
       "</table>\n",
       "</div>"
      ],
      "text/plain": [
       "   Year  Baltmore city annual water use, liters per capita per day, 1885-1968\n",
       "0  1885                                                356                   \n",
       "1  1886                                                386                   \n",
       "2  1887                                                397                   \n",
       "3  1888                                                397                   \n",
       "4  1889                                                413                   "
      ]
     },
     "execution_count": 153,
     "metadata": {},
     "output_type": "execute_result"
    }
   ],
   "source": [
    "dataset.head()"
   ]
  },
  {
   "cell_type": "code",
   "execution_count": 154,
   "metadata": {},
   "outputs": [
    {
     "data": {
      "text/html": [
       "<div>\n",
       "<style scoped>\n",
       "    .dataframe tbody tr th:only-of-type {\n",
       "        vertical-align: middle;\n",
       "    }\n",
       "\n",
       "    .dataframe tbody tr th {\n",
       "        vertical-align: top;\n",
       "    }\n",
       "\n",
       "    .dataframe thead th {\n",
       "        text-align: right;\n",
       "    }\n",
       "</style>\n",
       "<table border=\"1\" class=\"dataframe\">\n",
       "  <thead>\n",
       "    <tr style=\"text-align: right;\">\n",
       "      <th></th>\n",
       "      <th>Year</th>\n",
       "      <th>Baltmore city annual water use, liters per capita per day, 1885-1968</th>\n",
       "    </tr>\n",
       "  </thead>\n",
       "  <tbody>\n",
       "    <tr>\n",
       "      <th>69</th>\n",
       "      <td>1954</td>\n",
       "      <td>568</td>\n",
       "    </tr>\n",
       "    <tr>\n",
       "      <th>70</th>\n",
       "      <td>1955</td>\n",
       "      <td>575</td>\n",
       "    </tr>\n",
       "    <tr>\n",
       "      <th>71</th>\n",
       "      <td>1956</td>\n",
       "      <td>579</td>\n",
       "    </tr>\n",
       "    <tr>\n",
       "      <th>72</th>\n",
       "      <td>1957</td>\n",
       "      <td>587</td>\n",
       "    </tr>\n",
       "    <tr>\n",
       "      <th>73</th>\n",
       "      <td>1958</td>\n",
       "      <td>602</td>\n",
       "    </tr>\n",
       "  </tbody>\n",
       "</table>\n",
       "</div>"
      ],
      "text/plain": [
       "    Year  Baltmore city annual water use, liters per capita per day, 1885-1968\n",
       "69  1954                                                568                   \n",
       "70  1955                                                575                   \n",
       "71  1956                                                579                   \n",
       "72  1957                                                587                   \n",
       "73  1958                                                602                   "
      ]
     },
     "execution_count": 154,
     "metadata": {},
     "output_type": "execute_result"
    }
   ],
   "source": [
    "validation.head()"
   ]
  },
  {
   "cell_type": "markdown",
   "metadata": {},
   "source": [
    " ### Create summary of the dataset, with python function"
   ]
  },
  {
   "cell_type": "markdown",
   "metadata": {},
   "source": [
    "Summary statistics provide a quick look at the limits of observed values. It can help to get a quick idea of what we are working with."
   ]
  },
  {
   "cell_type": "code",
   "execution_count": 155,
   "metadata": {},
   "outputs": [
    {
     "data": {
      "text/html": [
       "<div>\n",
       "<style scoped>\n",
       "    .dataframe tbody tr th:only-of-type {\n",
       "        vertical-align: middle;\n",
       "    }\n",
       "\n",
       "    .dataframe tbody tr th {\n",
       "        vertical-align: top;\n",
       "    }\n",
       "\n",
       "    .dataframe thead th {\n",
       "        text-align: right;\n",
       "    }\n",
       "</style>\n",
       "<table border=\"1\" class=\"dataframe\">\n",
       "  <thead>\n",
       "    <tr style=\"text-align: right;\">\n",
       "      <th></th>\n",
       "      <th>Year</th>\n",
       "      <th>Baltmore city annual water use, liters per capita per day, 1885-1968</th>\n",
       "    </tr>\n",
       "  </thead>\n",
       "  <tbody>\n",
       "    <tr>\n",
       "      <th>count</th>\n",
       "      <td>69.000000</td>\n",
       "      <td>69.000000</td>\n",
       "    </tr>\n",
       "    <tr>\n",
       "      <th>mean</th>\n",
       "      <td>1919.000000</td>\n",
       "      <td>500.478261</td>\n",
       "    </tr>\n",
       "    <tr>\n",
       "      <th>std</th>\n",
       "      <td>20.062403</td>\n",
       "      <td>73.901685</td>\n",
       "    </tr>\n",
       "    <tr>\n",
       "      <th>min</th>\n",
       "      <td>1885.000000</td>\n",
       "      <td>344.000000</td>\n",
       "    </tr>\n",
       "    <tr>\n",
       "      <th>25%</th>\n",
       "      <td>1902.000000</td>\n",
       "      <td>458.000000</td>\n",
       "    </tr>\n",
       "    <tr>\n",
       "      <th>50%</th>\n",
       "      <td>1919.000000</td>\n",
       "      <td>492.000000</td>\n",
       "    </tr>\n",
       "    <tr>\n",
       "      <th>75%</th>\n",
       "      <td>1936.000000</td>\n",
       "      <td>538.000000</td>\n",
       "    </tr>\n",
       "    <tr>\n",
       "      <th>max</th>\n",
       "      <td>1953.000000</td>\n",
       "      <td>662.000000</td>\n",
       "    </tr>\n",
       "  </tbody>\n",
       "</table>\n",
       "</div>"
      ],
      "text/plain": [
       "              Year  \\\n",
       "count    69.000000   \n",
       "mean   1919.000000   \n",
       "std      20.062403   \n",
       "min    1885.000000   \n",
       "25%    1902.000000   \n",
       "50%    1919.000000   \n",
       "75%    1936.000000   \n",
       "max    1953.000000   \n",
       "\n",
       "       Baltmore city annual water use, liters per capita per day, 1885-1968  \n",
       "count                                          69.000000                     \n",
       "mean                                          500.478261                     \n",
       "std                                            73.901685                     \n",
       "min                                           344.000000                     \n",
       "25%                                           458.000000                     \n",
       "50%                                           492.000000                     \n",
       "75%                                           538.000000                     \n",
       "max                                           662.000000                     "
      ]
     },
     "execution_count": 155,
     "metadata": {},
     "output_type": "execute_result"
    }
   ],
   "source": [
    "dataset.describe()"
   ]
  },
  {
   "cell_type": "markdown",
   "metadata": {},
   "source": [
    "Some observations from these statistics include:\n",
    "\n",
    "- The number of observations (count) matches our expectation, meaning we are handling the data correctly.\n",
    "- The mean is about 500, which we might consider our level in this series.\n",
    "- The standard deviation and percentiles suggest a reasonably tight spread around the mean."
   ]
  },
  {
   "cell_type": "markdown",
   "metadata": {},
   "source": [
    "### Create a line plot of a time series dataset, it will provide a lot of insight into the problem"
   ]
  },
  {
   "cell_type": "markdown",
   "metadata": {},
   "source": [
    "A line plot of a time series dataset can provide a lot of insight into the problem"
   ]
  },
  {
   "cell_type": "code",
   "execution_count": 157,
   "metadata": {},
   "outputs": [
    {
     "data": {
      "text/plain": [
       "[<matplotlib.lines.Line2D at 0x16282f01f98>]"
      ]
     },
     "execution_count": 157,
     "metadata": {},
     "output_type": "execute_result"
    },
    {
     "data": {
      "image/png": "[encoded data removed]",
      "text/plain": [
       "<Figure size 720x432 with 1 Axes>"
      ]
     },
     "metadata": {
      "needs_background": "light"
     },
     "output_type": "display_data"
    }
   ],
   "source": [
    "water = dataset['Baltmore city annual water use, liters per capita per day, 1885-1968']\n",
    "plt.xlabel(\"Baltmore city annual water use, liters per capita per day, 1885-1968\")\n",
    "plt.ylabel('Year')\n",
    "plt.plot(water)"
   ]
  },
  {
   "cell_type": "markdown",
   "metadata": {},
   "source": [
    "Some observations from the plot include:\n",
    "\n",
    "- There looks to be an increasing trend in water usage over time.\n",
    "- There do not appear to be any obvious outliers, although there are some large fluctuations.\n",
    "- There is a downward trend for the last few years of the series."
   ]
  },
  {
   "cell_type": "markdown",
   "metadata": {},
   "source": [
    "###  Group the annual data by decade and get an idea of the spread of observations for each decade and how this may be changing."
   ]
  },
  {
   "cell_type": "markdown",
   "metadata": {},
   "source": [
    "We can group the annual data by decade and get an idea of the spread of observations for each decade and how this may be changing. <br>\n",
    "The last decade only contains 9 years and may not be a useful comparison with the other decades. Therefore only data between 1885 and 1944 was plotted."
   ]
  },
  {
   "cell_type": "code",
   "execution_count": 158,
   "metadata": {},
   "outputs": [
    {
     "data": {
      "text/html": [
       "<div>\n",
       "<style scoped>\n",
       "    .dataframe tbody tr th:only-of-type {\n",
       "        vertical-align: middle;\n",
       "    }\n",
       "\n",
       "    .dataframe tbody tr th {\n",
       "        vertical-align: top;\n",
       "    }\n",
       "\n",
       "    .dataframe thead th {\n",
       "        text-align: right;\n",
       "    }\n",
       "</style>\n",
       "<table border=\"1\" class=\"dataframe\">\n",
       "  <thead>\n",
       "    <tr style=\"text-align: right;\">\n",
       "      <th></th>\n",
       "      <th>Year</th>\n",
       "      <th>Baltmore city annual water use, liters per capita per day, 1885-1968</th>\n",
       "    </tr>\n",
       "  </thead>\n",
       "  <tbody>\n",
       "    <tr>\n",
       "      <th>0</th>\n",
       "      <td>1885</td>\n",
       "      <td>356</td>\n",
       "    </tr>\n",
       "    <tr>\n",
       "      <th>1</th>\n",
       "      <td>1886</td>\n",
       "      <td>386</td>\n",
       "    </tr>\n",
       "    <tr>\n",
       "      <th>2</th>\n",
       "      <td>1887</td>\n",
       "      <td>397</td>\n",
       "    </tr>\n",
       "    <tr>\n",
       "      <th>3</th>\n",
       "      <td>1888</td>\n",
       "      <td>397</td>\n",
       "    </tr>\n",
       "    <tr>\n",
       "      <th>4</th>\n",
       "      <td>1889</td>\n",
       "      <td>413</td>\n",
       "    </tr>\n",
       "  </tbody>\n",
       "</table>\n",
       "</div>"
      ],
      "text/plain": [
       "   Year  Baltmore city annual water use, liters per capita per day, 1885-1968\n",
       "0  1885                                                356                   \n",
       "1  1886                                                386                   \n",
       "2  1887                                                397                   \n",
       "3  1888                                                397                   \n",
       "4  1889                                                413                   "
      ]
     },
     "execution_count": 158,
     "metadata": {},
     "output_type": "execute_result"
    }
   ],
   "source": [
    "grup = dataset.iloc[:60,]\n",
    "grup.head()"
   ]
  },
  {
   "cell_type": "markdown",
   "metadata": {},
   "source": [
    "The example below groups the observations by decade and creates one box and whisker plot for each decade of observations. We do expect to see some trend (increasing mean)."
   ]
  },
  {
   "cell_type": "markdown",
   "metadata": {},
   "source": [
    "The example below groups the observations by decade and creates a line plot for each decade of observations."
   ]
  },
  {
   "cell_type": "code",
   "execution_count": 170,
   "metadata": {},
   "outputs": [
    {
     "data": {
      "text/plain": [
       "Text(0.5, 1.0, 'Annual data by decade')"
      ]
     },
     "execution_count": 170,
     "metadata": {},
     "output_type": "execute_result"
    },
    {
     "data": {
      "image/png": "[encoded data removed]",
      "text/plain": [
       "<Figure size 1440x720 with 1 Axes>"
      ]
     },
     "metadata": {
      "needs_background": "light"
     },
     "output_type": "display_data"
    }
   ],
   "source": [
    "#groups the observations by decade\n",
    "grup_decade = grup.groupby((grup.index//10)*10).mean()\n",
    "\n",
    "#the line plot\n",
    "plt.figure(figsize=(20,10))\n",
    "ax = plt.gca()\n",
    "ax.set_xlabel(\"Year\")\n",
    "ax.set_ylabel('Baltmore city annual water use, liters per capita per day')\n",
    "plt.plot(grup_decade)\n",
    "plt.title('Annual data by decade')"
   ]
  },
  {
   "cell_type": "markdown",
   "metadata": {},
   "source": [
    "The mean values for each decades (blue line) may show an increasing trend that may not be linear"
   ]
  },
  {
   "cell_type": "markdown",
   "metadata": {},
   "source": [
    "### Create models using ARIMA"
   ]
  },
  {
   "cell_type": "code",
   "execution_count": 76,
   "metadata": {},
   "outputs": [
    {
     "name": "stdout",
     "output_type": "stream",
     "text": [
      "<class 'pandas.core.frame.DataFrame'>\n",
      "RangeIndex: 69 entries, 0 to 68\n",
      "Data columns (total 2 columns):\n",
      "Year                                                                    69 non-null int64\n",
      "Baltmore city annual water use, liters per capita per day, 1885-1968    69 non-null int64\n",
      "dtypes: int64(2)\n",
      "memory usage: 1.2 KB\n"
     ]
    }
   ],
   "source": [
    "dataset.info()"
   ]
  },
  {
   "cell_type": "code",
   "execution_count": 77,
   "metadata": {},
   "outputs": [],
   "source": [
    "water = water.astype(float)"
   ]
  },
  {
   "cell_type": "code",
   "execution_count": 80,
   "metadata": {},
   "outputs": [
    {
     "name": "stdout",
     "output_type": "stream",
     "text": [
      "predicted=507.454545, expected=503.000000\n",
      "predicted=507.323529, expected=503.000000\n",
      "predicted=507.200000, expected=515.000000\n",
      "predicted=519.416667, expected=522.000000\n",
      "predicted=526.486486, expected=492.000000\n",
      "predicted=495.578947, expected=503.000000\n",
      "predicted=506.769231, expected=503.000000\n",
      "predicted=506.675000, expected=450.000000\n",
      "predicted=452.292683, expected=432.000000\n",
      "predicted=433.809524, expected=432.000000\n",
      "predicted=433.767442, expected=458.000000\n",
      "predicted=460.318182, expected=462.000000\n",
      "predicted=464.355556, expected=503.000000\n",
      "predicted=506.195652, expected=488.000000\n",
      "predicted=490.808511, expected=466.000000\n",
      "predicted=468.291667, expected=492.000000\n",
      "predicted=494.775510, expected=503.000000\n",
      "predicted=505.940000, expected=515.000000\n",
      "predicted=518.117647, expected=500.000000\n",
      "predicted=502.769231, expected=522.000000\n",
      "predicted=525.132075, expected=575.000000\n",
      "predicted=579.055556, expected=583.000000\n",
      "predicted=587.127273, expected=587.000000\n",
      "predicted=591.125000, expected=628.000000\n",
      "predicted=632.771930, expected=640.000000\n",
      "predicted=644.896552, expected=609.000000\n",
      "predicted=613.288136, expected=606.000000\n",
      "predicted=610.166667, expected=632.000000\n",
      "predicted=636.524590, expected=617.000000\n",
      "predicted=621.209678, expected=613.000000\n",
      "predicted=617.079365, expected=598.000000\n",
      "predicted=601.781250, expected=575.000000\n",
      "predicted=578.369231, expected=564.000000\n",
      "predicted=567.151515, expected=549.000000\n",
      "predicted=551.880597, expected=538.000000\n"
     ]
    },
    {
     "data": {
      "image/png": "[encoded data removed]",
      "text/plain": [
       "<Figure size 720x432 with 1 Axes>"
      ]
     },
     "metadata": {
      "needs_background": "light"
     },
     "output_type": "display_data"
    }
   ],
   "source": [
    "from pandas import read_csv\n",
    "from pandas import datetime\n",
    "from matplotlib import pyplot\n",
    "from statsmodels.tsa.arima_model import ARIMA\n",
    "from sklearn.metrics import mean_squared_error\n",
    "X = water.values\n",
    "size = int(len(X) * 0.50)\n",
    "train, test = X[0:size], X[size:len(X)]\n",
    "history = [x for x in train]\n",
    "predictions = list()\n",
    "for t in range(len(test)):\n",
    "\tmodel = ARIMA(history, order=(0,1,0))\n",
    "\tmodel_fit = model.fit(disp=0)\n",
    "\toutput = model_fit.forecast()\n",
    "\tyhat = output[0]\n",
    "\tpredictions.append(yhat)\n",
    "\tobs = test[t]\n",
    "\thistory.append(obs)\n",
    "\tprint('predicted=%f, expected=%f' % (yhat, obs))\n",
    "# plot\n",
    "pyplot.plot(test)\n",
    "pyplot.plot(predictions, color='red')\n",
    "pyplot.show()"
   ]
  },
  {
   "cell_type": "markdown",
   "metadata": {},
   "source": [
    "### Calculate the RMSE using the helper function from the scikit-learn library, from dataset only"
   ]
  },
  {
   "cell_type": "code",
   "execution_count": 82,
   "metadata": {},
   "outputs": [
    {
     "name": "stdout",
     "output_type": "stream",
     "text": [
      "RMSE: 15.555\n"
     ]
    }
   ],
   "source": [
    "error = mean_squared_error(test, predictions)\n",
    "rmse = sqrt(mse)\n",
    "print('RMSE: %.3f' % rmse)"
   ]
  }
 ],
 "metadata": {
  "kernelspec": {
   "display_name": "Python 3",
   "language": "python",
   "name": "python3"
  },
  "language_info": {
   "codemirror_mode": {
    "name": "ipython",
    "version": 3
   },
   "file_extension": ".py",
   "mimetype": "text/x-python",
   "name": "python",
   "nbconvert_exporter": "python",
   "pygments_lexer": "ipython3",
   "version": "3.7.3"
  }
 },
 "nbformat": 4,
 "nbformat_minor": 2
}
